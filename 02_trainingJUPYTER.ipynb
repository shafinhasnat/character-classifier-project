{
 "cells": [
  {
   "cell_type": "code",
   "execution_count": 9,
   "metadata": {},
   "outputs": [],
   "source": [
    "import glob\n",
    "import csv\n",
    "import numpy as np\n",
    "from sklearn.neighbors import KNeighborsClassifier ## this is for knn classifier\n",
    "from sklearn.naive_bayes import GaussianNB ## this is for NB classifier\n",
    "from sklearn.model_selection import train_test_split ## this is for splitting data to measure accuracy\n",
    "from sklearn import metrics ## this is for measuring accuracy\n",
    "import joblib"
   ]
  },
  {
   "cell_type": "code",
   "execution_count": 10,
   "metadata": {},
   "outputs": [],
   "source": [
    "## open the label.csv file and return the label data as an array\n",
    "def labelRead():\n",
    "\tfilename = \"label.csv\"\n",
    "\tlabel = []\n",
    "\twith open(filename, 'r') as f:\n",
    "\t\tcsvRead = csv.reader(f)\n",
    "\t\tfor i in csvRead:\n",
    "\t\t\tlabel.append(i[0])\n",
    "\tlabel = np.array(label)\n",
    "\treturn label"
   ]
  },
  {
   "cell_type": "code",
   "execution_count": 11,
   "metadata": {},
   "outputs": [],
   "source": [
    "## open the trainingImg.csv file and return the label data as an array\n",
    "def trainingRead():\n",
    "\ttrainImg = []\n",
    "\tfilename = \"trainingImg.csv\"\n",
    "\twith open(filename, 'r') as trainingFile:\n",
    "\t\tread = csv.reader(trainingFile)\n",
    "\t\tfor i in read:\n",
    "\t\t\trow = list(map(int, i))\n",
    "\t\t\ttrainImg.append(row)\n",
    "\ttrainImg = np.array(trainImg)\n",
    "\treturn trainImg"
   ]
  },
  {
   "cell_type": "code",
   "execution_count": 12,
   "metadata": {},
   "outputs": [],
   "source": [
    "def trainModel(img, label, classifier, filename):\n",
    "\t## taking 20% of all training data and label for testing the model accuracy \n",
    "\tx_train, x_test, y_train, y_test = train_test_split(img, label, test_size = 0.2, random_state = 1)\n",
    "\t## fitting the image and label into the respective classifier\n",
    "\tclassifier.fit(img, label)\n",
    "\tprint(\"Training model done!\")\n",
    "\tprint(\"Model saving initialized\")\n",
    "\t## saving the classifier model\n",
    "\tjoblib.dump(classifier, filename)\n",
    "\tprint(\"Model saving done!\")\n",
    "\t## predicting test images for the accuracy test\n",
    "\ty_pred = classifier.predict(x_test)\n",
    "\t## print the model accuracy\n",
    "\tprint(\"Accuracy:\",metrics.accuracy_score(y_test, y_pred))\n",
    "\tpass"
   ]
  },
  {
   "cell_type": "code",
   "execution_count": 13,
   "metadata": {},
   "outputs": [],
   "source": [
    "def trainKnnModel(img, label):\n",
    "\tprint(\"~~~~~~~~~~~~~~~~KNN~~~~~~~~~~~~~~~\")\n",
    "\tprint(\"training model initialized\")\n",
    "\t## declearing the classifier to be KNN classifier using scikit learn\n",
    "\tclassifier = KNeighborsClassifier(n_neighbors = 10)\n",
    "\tfilename = 'trainingKnnModel.sav'\n",
    "\t## passing arguments for knn classifier in the trainModel() function and save it with this filename\n",
    "\ttrainModel(img, label, classifier, filename)\n",
    "\tprint(\"~~~~~~~~~~~~~~~~~~~~~~~~~~~~~~~~~~\")\n",
    "\tpass"
   ]
  },
  {
   "cell_type": "code",
   "execution_count": 14,
   "metadata": {},
   "outputs": [],
   "source": [
    "def trainNbModel(img, label):\n",
    "\tprint(\"~~~~~~~~~~~~~~~~Nb~~~~~~~~~~~~~~~\")\n",
    "\tprint(\"training model initialized\")\n",
    "\t## declearing the classifier to be Naive bayes classifier using scikit learn\n",
    "\tclassifier = GaussianNB()\n",
    "\tfilename = 'trainingNbModel.sav'\n",
    "\t## passing arguments for Nb classifier in the trainModel() function and save it with this filename\n",
    "\ttrainModel(img, label, classifier, filename)\n",
    "\tprint(\"~~~~~~~~~~~~~~~~~~~~~~~~~~~~~~~~~~\")\n",
    "\tpass"
   ]
  },
  {
   "cell_type": "code",
   "execution_count": 15,
   "metadata": {},
   "outputs": [
    {
     "name": "stdout",
     "output_type": "stream",
     "text": [
      "~~~~~~~~~~~~~~~~KNN~~~~~~~~~~~~~~~\n",
      "training model initialized\n",
      "Training model done!\n",
      "Model saving initialized\n",
      "Model saving done!\n",
      "Accuracy: 0.5629370629370629\n",
      "~~~~~~~~~~~~~~~~~~~~~~~~~~~~~~~~~~\n",
      "~~~~~~~~~~~~~~~~Nb~~~~~~~~~~~~~~~\n",
      "training model initialized\n",
      "Training model done!\n",
      "Model saving initialized\n",
      "Model saving done!\n",
      "Accuracy: 0.20454545454545456\n",
      "~~~~~~~~~~~~~~~~~~~~~~~~~~~~~~~~~~\n"
     ]
    }
   ],
   "source": [
    "## calling the trainingRead() and labelRead() function\n",
    "img = trainingRead()\n",
    "label = labelRead()\n",
    "## passing the arguments into the both models\n",
    "trainKnnModel(img, label)\n",
    "trainNbModel(img, label)"
   ]
  },
  {
   "cell_type": "code",
   "execution_count": null,
   "metadata": {},
   "outputs": [],
   "source": []
  }
 ],
 "metadata": {
  "kernelspec": {
   "display_name": "Python 3",
   "language": "python",
   "name": "python3"
  },
  "language_info": {
   "codemirror_mode": {
    "name": "ipython",
    "version": 3
   },
   "file_extension": ".py",
   "mimetype": "text/x-python",
   "name": "python",
   "nbconvert_exporter": "python",
   "pygments_lexer": "ipython3",
   "version": "3.6.8"
  }
 },
 "nbformat": 4,
 "nbformat_minor": 2
}
