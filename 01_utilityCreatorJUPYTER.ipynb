{
 "cells": [
  {
   "cell_type": "code",
   "execution_count": 1,
   "metadata": {},
   "outputs": [],
   "source": [
    "import os\n",
    "import csv\n",
    "import string\n",
    "import glob ## this is for accessing folders and fetch data\n",
    "import cv2 ## this is for image processing\n",
    "import numpy as np"
   ]
  },
  {
   "cell_type": "code",
   "execution_count": 2,
   "metadata": {},
   "outputs": [],
   "source": [
    "def createLabel():\n",
    "\t## create an empty label.csv file\n",
    "\tos.popen(\"type nul >> label.csv\")\n",
    "\tfilename = \"label.csv\"\n",
    "\n",
    "\t## declearing an empty list\n",
    "\tlabelList = []\n",
    "\n",
    "\t## append A-Z (upper case letter) each 55 times in the list\n",
    "\tfor i in string.ascii_uppercase:\n",
    "\t\tfor j in range(55):\n",
    "\t\t\tlabelList.append(i)\n",
    "\n",
    "\t## append a-z (lower case letter) each 55 times in the list\n",
    "\tfor i in string.ascii_lowercase:\n",
    "\t\tfor j in range(55):\n",
    "\t\t\tlabelList.append(i)\n",
    "\n",
    "\t## write them into the empty label.csv file\t\t\n",
    "\twith open(filename,'w') as labelFile:\n",
    "\t\tfor i in labelList:\n",
    "\t\t\tlabelFile.write(i)\n",
    "\t\t\tlabelFile.write('\\n')"
   ]
  },
  {
   "cell_type": "code",
   "execution_count": 3,
   "metadata": {},
   "outputs": [],
   "source": [
    "def createImgTraining():\n",
    "\t## create an empty trainingImg.csv file\n",
    "\tos.popen(\"type nul >> trainingImg.csv\")\n",
    "\tfilename = \"trainingImg.csv\"\n",
    "\ttrainingFolder = []\n",
    "\timageList = []\n",
    "\tprint(\"Directory reading initialized\")\n",
    "\t## read all the directory and image file name of the dataset\n",
    "\tfor i in range(11,63):\n",
    "\t\tn = \".\\Hnd\\Img\\Sample0{}\\*\".format(i)\n",
    "\t\ttrainingFolder.append(n)\n",
    "\tprint(\"Directory reading done!\")\n",
    "\tprint(\"Image manipulation initialized\")\n",
    "\t## processing all the images\n",
    "\tfor i in trainingFolder:\n",
    "\t\tfor file in glob.glob(i):\n",
    "\t\t\t## import each of the image files in grayscale (0 means grayscale)\n",
    "\t\t\tim = cv2.imread(file, 0)\n",
    "\t\t\t## invert (not operation) the color of the images black on white ----> white on black\n",
    "\t\t\tim = cv2.bitwise_not(im)\n",
    "\t\t\t## resize the image from 1200x900 to 28x28 in order to reduce load\n",
    "\t\t\tim = cv2.resize(im, (28, 28))\n",
    "\t\t\t## the images are matrices of 2D array. now flatten them and make them 1D array\n",
    "\t\t\tim = im.flatten()\n",
    "\t\t\t## put all the flatten 1D array of images in the imageList list\n",
    "\t\t\timageList.append(im)\n",
    "\t\t\tpass\n",
    "\tprint(\"Image manipulation done!!\")\n",
    "\tprint(\"Creating training file initialized\")\n",
    "\t## write a image data in the empty trainingImg.csv file. from now on this will be our training data\n",
    "\twith open(filename, 'w', newline = '') as trainingFile:\n",
    "\t\tw = csv.writer(trainingFile, delimiter=',')\n",
    "\t\tfor i in imageList:\n",
    "\t\t\tw.writerow(i)\n",
    "\tprint(\"Training file creation done!!\")"
   ]
  },
  {
   "cell_type": "code",
   "execution_count": 4,
   "metadata": {},
   "outputs": [
    {
     "name": "stdout",
     "output_type": "stream",
     "text": [
      "Directory reading initialized\n",
      "Directory reading done!\n",
      "Image manipulation initialized\n",
      "Image manipulation done!!\n",
      "Creating training file initialized\n",
      "Training file creation done!!\n"
     ]
    }
   ],
   "source": [
    "createLabel()\n",
    "createImgTraining()"
   ]
  },
  {
   "cell_type": "code",
   "execution_count": null,
   "metadata": {},
   "outputs": [],
   "source": []
  }
 ],
 "metadata": {
  "kernelspec": {
   "display_name": "Python 3",
   "language": "python",
   "name": "python3"
  },
  "language_info": {
   "codemirror_mode": {
    "name": "ipython",
    "version": 3
   },
   "file_extension": ".py",
   "mimetype": "text/x-python",
   "name": "python",
   "nbconvert_exporter": "python",
   "pygments_lexer": "ipython3",
   "version": "3.6.8"
  }
 },
 "nbformat": 4,
 "nbformat_minor": 2
}
