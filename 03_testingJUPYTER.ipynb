{
 "cells": [
  {
   "cell_type": "code",
   "execution_count": 1,
   "metadata": {},
   "outputs": [],
   "source": [
    "import cv2\n",
    "import numpy as np\n",
    "import joblib"
   ]
  },
  {
   "cell_type": "code",
   "execution_count": 2,
   "metadata": {},
   "outputs": [],
   "source": [
    "## this code is for testing our classifier model\n",
    "def predict(img, model):\n",
    "\t## read our test image in grayscale\n",
    "\tim = cv2.imread(img, 0)\n",
    "\t## invert the color as before\n",
    "\tim = cv2.bitwise_not(im)\n",
    "\t## resize them in 28x28 resulation\n",
    "\tim = cv2.resize(im, (28, 28))\n",
    "\t## flatten from 2D array to 1D\n",
    "\tim = im.flatten()\n",
    "\t## read the previously saved classifier models\n",
    "\tloadModel = joblib.load(model)\n",
    "\t## classify our image against the trained model\n",
    "\tpredict = loadModel.predict([im])\n",
    "\t## return what letter it might be\n",
    "\treturn predict[0]"
   ]
  },
  {
   "cell_type": "code",
   "execution_count": 4,
   "metadata": {},
   "outputs": [
    {
     "name": "stdout",
     "output_type": "stream",
     "text": [
      "Prediction from knn model: V\n",
      "Prediction from Nb model: Y\n"
     ]
    }
   ],
   "source": [
    "## we saved our test image in img.png name\n",
    "img = \"img.png\"\n",
    "## loading models both knn and Nb\n",
    "knnModel = \"trainingKnnModel.sav\"\n",
    "nbModel = \"trainingNbModel.sav\"\n",
    "## pass the parameters in the function above for Knn model\n",
    "print(\"Prediction from knn model: {}\".format(predict(img, knnModel)))\n",
    "## pass the parameters in the function above for Nb model\n",
    "print(\"Prediction from Nb model: {}\".format(predict(img, nbModel)))"
   ]
  },
  {
   "cell_type": "code",
   "execution_count": null,
   "metadata": {},
   "outputs": [],
   "source": []
  }
 ],
 "metadata": {
  "kernelspec": {
   "display_name": "Python 3",
   "language": "python",
   "name": "python3"
  },
  "language_info": {
   "codemirror_mode": {
    "name": "ipython",
    "version": 3
   },
   "file_extension": ".py",
   "mimetype": "text/x-python",
   "name": "python",
   "nbconvert_exporter": "python",
   "pygments_lexer": "ipython3",
   "version": "3.6.8"
  }
 },
 "nbformat": 4,
 "nbformat_minor": 2
}
